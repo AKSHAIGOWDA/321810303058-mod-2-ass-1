{
 "cells": [
  {
   "cell_type": "code",
   "execution_count": 3,
   "metadata": {},
   "outputs": [
    {
     "name": "stdout",
     "output_type": "stream",
     "text": [
      "9\n",
      "5\n",
      "2\n",
      "max is: 9\n"
     ]
    }
   ],
   "source": [
    "def Max(a, b, c):  \n",
    "    if (a >= b) and (a >= c): \n",
    "        max=a  \n",
    "    elif (b >= a) and (b >= c): \n",
    "        max=b \n",
    "    else: \n",
    "        max=c \n",
    "    return max \n",
    "a=int(input())\n",
    "b=int(input())\n",
    "c=int(input())\n",
    "print(\"max is:\",Max(a, b, c))"
   ]
  }
 ],
 "metadata": {
  "kernelspec": {
   "display_name": "Python 3",
   "language": "python",
   "name": "python3"
  },
  "language_info": {
   "codemirror_mode": {
    "name": "ipython",
    "version": 3
   },
   "file_extension": ".py",
   "mimetype": "text/x-python",
   "name": "python",
   "nbconvert_exporter": "python",
   "pygments_lexer": "ipython3",
   "version": "3.7.6"
  }
 },
 "nbformat": 4,
 "nbformat_minor": 4
}
